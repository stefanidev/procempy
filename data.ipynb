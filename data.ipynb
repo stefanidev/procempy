{
 "cells": [
  {
   "cell_type": "code",
   "execution_count": null,
   "metadata": {},
   "outputs": [],
   "source": [
    "import pandas as pd\n",
    "import numpy as np\n",
    "import pyautogui as pg\n",
    "\n",
    "df_base = pd.read_excel('baseclientes-atual.xlsx')\n",
    "df_teste = pd.read_excel('teste.xlsx')\n",
    "\n",
    "df_base\n"
   ]
  },
  {
   "cell_type": "code",
   "execution_count": 2,
   "metadata": {},
   "outputs": [
    {
     "data": {
      "text/plain": [
       "'OK'"
      ]
     },
     "execution_count": 2,
     "metadata": {},
     "output_type": "execute_result"
    }
   ],
   "source": [
    "df_consolidado = pd.merge(df_base, df_teste, on=\"id_vantive\", how= 'inner',indicator=True)\n",
    "tabela = df_consolidado\n",
    "tabela.to_excel('export.xlsx', index = False)\n",
    "df_consolidado.head()\n",
    "\n",
    "pg.alert(\"Exportação pronta!\")"
   ]
  }
 ],
 "metadata": {
  "kernelspec": {
   "display_name": "Python 3",
   "language": "python",
   "name": "python3"
  },
  "language_info": {
   "codemirror_mode": {
    "name": "ipython",
    "version": 3
   },
   "file_extension": ".py",
   "mimetype": "text/x-python",
   "name": "python",
   "nbconvert_exporter": "python",
   "pygments_lexer": "ipython3",
   "version": "3.11.3"
  }
 },
 "nbformat": 4,
 "nbformat_minor": 2
}
